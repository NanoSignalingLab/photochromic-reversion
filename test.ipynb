{
 "cells": [
  {
   "cell_type": "code",
   "execution_count": 14,
   "id": "33c25a3e",
   "metadata": {},
   "outputs": [],
   "source": [
    "import casta"
   ]
  },
  {
   "cell_type": "code",
   "execution_count": null,
   "id": "746bfdc2",
   "metadata": {},
   "outputs": [],
   "source": [
    "plotting_flag=0\n",
    "dt=0.05\n",
    "min_track_length=25\n",
    "plotting_saving_nice_image_flag=0\n",
    "\n",
    "image_saving_flag=\"svg\"\n",
    "image_saving_flag=\"tiff\"\n",
    "\n",
    "#folderpath1=r\"C:\\Users\\miche\\Desktop\\simualted tracks\\test_real_tracks\"\n",
    "#folderpath1=r\"D:\\photochromic_reversion_data\\tst\"\n",
    "folderpath1=r\"/Users/schulzp9/Documents/casta\""
   ]
  },
  {
   "cell_type": "code",
   "execution_count": 16,
   "id": "3b1a16b9",
   "metadata": {},
   "outputs": [
    {
     "ename": "AttributeError",
     "evalue": "module 'casta' has no attribute 'calculate_spatial_transient_wrapper'",
     "output_type": "error",
     "traceback": [
      "\u001b[0;31m---------------------------------------------------------------------------\u001b[0m",
      "\u001b[0;31mAttributeError\u001b[0m                            Traceback (most recent call last)",
      "Cell \u001b[0;32mIn[16], line 1\u001b[0m\n\u001b[0;32m----> 1\u001b[0m \u001b[43mcasta\u001b[49m\u001b[38;5;241;43m.\u001b[39;49m\u001b[43mcalculate_spatial_transient_wrapper\u001b[49m(plotting_flag, dt, min_track_length, plotting_saving_nice_image_flag, image_saving_flag, folderpath1)\n",
      "\u001b[0;31mAttributeError\u001b[0m: module 'casta' has no attribute 'calculate_spatial_transient_wrapper'"
     ]
    }
   ],
   "source": [
    "casta.calculate_spatial_transient_wrapper(plotting_flag, dt, min_track_length, plotting_saving_nice_image_flag, image_saving_flag, folderpath1)"
   ]
  }
 ],
 "metadata": {
  "kernelspec": {
   "display_name": "casta",
   "language": "python",
   "name": "python3"
  },
  "language_info": {
   "codemirror_mode": {
    "name": "ipython",
    "version": 3
   },
   "file_extension": ".py",
   "mimetype": "text/x-python",
   "name": "python",
   "nbconvert_exporter": "python",
   "pygments_lexer": "ipython3",
   "version": "3.10.18"
  }
 },
 "nbformat": 4,
 "nbformat_minor": 5
}
